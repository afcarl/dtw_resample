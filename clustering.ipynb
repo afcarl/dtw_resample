{
 "cells": [
  {
   "cell_type": "markdown",
   "metadata": {
    "collapsed": true
   },
   "source": [
    "# `DTWSampler` for clustering\n",
    "\n",
    "The original application of the `DTWSampler` was to allow clustering of resampled data using standard ML algorithms.\n",
    "In this notebook, we explore the case of $k$-means clustering but other algorithms could be used."
   ]
  },
  {
   "cell_type": "code",
   "execution_count": 1,
   "metadata": {
    "collapsed": false
   },
   "outputs": [],
   "source": [
    "import numpy\n",
    "from sklearn.pipeline import Pipeline\n",
    "from sklearn.cluster import KMeans\n",
    "\n",
    "from sampler import DTWSampler\n",
    "\n",
    "# preparing data, nothing very interesting here...\n",
    "\n",
    "data = []\n",
    "data.append(numpy.loadtxt(\"data/Xi_ref.txt\"))\n",
    "data.append(numpy.loadtxt(\"data/Xi_0.txt\"))\n",
    "data.append(numpy.loadtxt(\"data/Xi_1.txt\"))\n",
    "\n",
    "d = data[0].shape[1]\n",
    "\n",
    "max_sz = max([ts.shape[0] for ts in data])\n",
    "n_rep = 5\n",
    "\n",
    "npy_arr = numpy.zeros((len(data) * n_rep, max_sz, d)) + numpy.nan\n",
    "std_per_d = None\n",
    "for idx_rep in range(n_rep):\n",
    "    for idx, ts in enumerate(data):\n",
    "        sz = ts.shape[0]\n",
    "        npy_arr[idx + idx_rep * len(data), :sz] = ts + 0.1 * numpy.random.randn(sz, d) * ts.std(axis=0)"
   ]
  },
  {
   "cell_type": "code",
   "execution_count": 2,
   "metadata": {
    "collapsed": false
   },
   "outputs": [
    {
     "name": "stdout",
     "output_type": "stream",
     "text": [
      "(15, 13, 3)\n"
     ]
    }
   ],
   "source": [
    "print(npy_arr.shape)"
   ]
  },
  {
   "cell_type": "markdown",
   "metadata": {},
   "source": [
    "As described in the README, data should a 2-dimensional array, so we should reshape it:"
   ]
  },
  {
   "cell_type": "code",
   "execution_count": 3,
   "metadata": {
    "collapsed": false
   },
   "outputs": [
    {
     "name": "stdout",
     "output_type": "stream",
     "text": [
      "(15, 39)\n"
     ]
    }
   ],
   "source": [
    "npy_arr = npy_arr.reshape(-1, max_sz * d)\n",
    "print(npy_arr.shape)"
   ]
  },
  {
   "cell_type": "markdown",
   "metadata": {},
   "source": [
    "Now, we just have to prepare our `Pipeline` and go:"
   ]
  },
  {
   "cell_type": "code",
   "execution_count": 4,
   "metadata": {
    "collapsed": false
   },
   "outputs": [
    {
     "name": "stdout",
     "output_type": "stream",
     "text": [
      "[2 0 1 2 0 1 2 0 1 2 0 1 2 0 1]\n"
     ]
    }
   ],
   "source": [
    "s = DTWSampler(scaling_col_idx=0, reference_idx=0, d=3, interp_kind=\"linear\")\n",
    "km = KMeans(n_clusters=3)\n",
    "\n",
    "dtw_kmeans = Pipeline([('dtw_sampler', s), ('l2-kmeans', km)])\n",
    "labels = dtw_kmeans.fit_predict(npy_arr)\n",
    "print(labels)"
   ]
  }
 ],
 "metadata": {
  "kernelspec": {
   "display_name": "Python 3",
   "language": "python",
   "name": "python3"
  },
  "language_info": {
   "codemirror_mode": {
    "name": "ipython",
    "version": 3
   },
   "file_extension": ".py",
   "mimetype": "text/x-python",
   "name": "python",
   "nbconvert_exporter": "python",
   "pygments_lexer": "ipython3",
   "version": "3.4.3"
  }
 },
 "nbformat": 4,
 "nbformat_minor": 0
}
